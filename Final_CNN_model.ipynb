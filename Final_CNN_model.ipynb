{
  "nbformat": 4,
  "nbformat_minor": 0,
  "metadata": {
    "colab": {
      "name": "CNN_Split_Training.ipynb",
      "provenance": [],
      "include_colab_link": true
    },
    "kernelspec": {
      "name": "python3",
      "display_name": "Python 3"
    },
    "language_info": {
      "name": "python"
    },
    "accelerator": "GPU"
  },
  "cells": [
    {
      "cell_type": "markdown",
      "metadata": {
        "id": "view-in-github",
        "colab_type": "text"
      },
      "source": [
        "<a href=\"https://colab.research.google.com/github/UttaraKet1607/Hindi-Character-Recognition/blob/main/Final_CNN_model.ipynb\" target=\"_parent\"><img src=\"https://colab.research.google.com/assets/colab-badge.svg\" alt=\"Open In Colab\"/></a>"
      ]
    },
    {
      "cell_type": "code",
      "metadata": {
        "id": "rJs0UL2NEtp_"
      },
      "source": [
        "! unzip \"training.zip\""
      ],
      "execution_count": null,
      "outputs": []
    },
    {
      "cell_type": "code",
      "metadata": {
        "id": "Xam5YdIGGMVo"
      },
      "source": [
        "import os\n",
        "import shutil\n",
        "from tensorflow.keras.preprocessing import image\n",
        "from tensorflow.keras.models import Sequential, load_model\n",
        "from tensorflow.keras.layers import Conv2D, MaxPool2D, Dense, Flatten, Dropout"
      ],
      "execution_count": 2,
      "outputs": []
    },
    {
      "cell_type": "markdown",
      "metadata": {
        "id": "kx8O815jIwoo"
      },
      "source": [
        "## Creating a Validation Set"
      ]
    },
    {
      "cell_type": "code",
      "metadata": {
        "id": "IWxQsJaRFrtz"
      },
      "source": [
        "os.mkdir('validation')\n",
        "os.mkdir('./validation/background')\n",
        "os.mkdir('./validation/hi')"
      ],
      "execution_count": 3,
      "outputs": []
    },
    {
      "cell_type": "code",
      "metadata": {
        "colab": {
          "base_uri": "https://localhost:8080/"
        },
        "id": "pXiTggRQGwyL",
        "outputId": "f068c61e-1271-4b96-e914-7d2a83fb7d6d"
      },
      "source": [
        "#finding total number of files in each class\n",
        "bg_imgs = os.listdir('./training/background') \n",
        "hi_imgs = os.listdir('./training/hi')\n",
        "print(len(bg_imgs))\n",
        "print(len(hi_imgs))\n",
        "# ? class imbalance "
      ],
      "execution_count": 4,
      "outputs": [
        {
          "output_type": "stream",
          "name": "stdout",
          "text": [
            "4450\n",
            "1425\n"
          ]
        }
      ]
    },
    {
      "cell_type": "code",
      "metadata": {
        "id": "IdqWZ9iBGKkD"
      },
      "source": [
        "validation_imgs = bg_imgs[3115:] #30% of 4450\n",
        "len(validation_imgs)\n",
        "for f in validation_imgs:\n",
        "  shutil.move(os.path.join('./training/background',f),'./validation/background')"
      ],
      "execution_count": 5,
      "outputs": []
    },
    {
      "cell_type": "code",
      "metadata": {
        "id": "zH47LXj7HuBZ"
      },
      "source": [
        "validation_imgs = hi_imgs[997:] #30% of 1425\n",
        "len(validation_imgs)\n",
        "for f in validation_imgs:\n",
        "  shutil.move(os.path.join('./training/hi',f),'./validation/hi')"
      ],
      "execution_count": 6,
      "outputs": []
    },
    {
      "cell_type": "markdown",
      "metadata": {
        "id": "D5nb7argI0Zg"
      },
      "source": [
        "## Data Preparation"
      ]
    },
    {
      "cell_type": "code",
      "metadata": {
        "colab": {
          "base_uri": "https://localhost:8080/"
        },
        "id": "T-8Ut6T8I_j0",
        "outputId": "0122b09d-0b6d-4c0d-81b6-22695703ef88"
      },
      "source": [
        "generator = image.ImageDataGenerator(rescale=1./255, rotation_range=40,       \n",
        "      width_shift_range=0.2,   \n",
        "      height_shift_range=0.2,  \n",
        "      shear_range=0.2,         \n",
        "      zoom_range=0.2,           \n",
        "      horizontal_flip=True,    \n",
        "      fill_mode=\"nearest\")\n",
        "train_datagen = generator.flow_from_directory('./training',target_size=(64,64),classes=['background','hi'],class_mode='binary',batch_size=20)\n",
        "test_datagen = generator.flow_from_directory('./validation',target_size=(64,64),classes=['background','hi'],class_mode='binary',batch_size=20)\n"
      ],
      "execution_count": 7,
      "outputs": [
        {
          "output_type": "stream",
          "name": "stdout",
          "text": [
            "Found 4112 images belonging to 2 classes.\n",
            "Found 1763 images belonging to 2 classes.\n"
          ]
        }
      ]
    },
    {
      "cell_type": "markdown",
      "metadata": {
        "id": "pv6fbINSLcia"
      },
      "source": [
        "## Model Building"
      ]
    },
    {
      "cell_type": "code",
      "metadata": {
        "id": "UpoMaPAUJu3h"
      },
      "source": [
        "model = Sequential()\n",
        "model.add(Conv2D(32, (5,5), activation = \"relu\", input_shape=(64,64,3)))\n",
        "model.add(MaxPool2D((3,3), padding = \"same\"))\n",
        "model.add(Conv2D(32, (5,5), activation = \"relu\", input_shape=(64,64,3)))\n",
        "model.add(MaxPool2D((3,3), padding = \"same\"))\n",
        "model.add(Conv2D(32, (5,5), activation = \"relu\", input_shape=(64,64,3)))\n",
        "model.add(MaxPool2D((3,3), padding = \"same\"))\n",
        "model.add(Flatten())\n",
        "model.add(Dense(128, activation= \"relu\"))\n",
        "model.add(Dense(128, activation= \"relu\"))\n",
        "model.add(Dense(1, activation = \"sigmoid\"))"
      ],
      "execution_count": 50,
      "outputs": []
    },
    {
      "cell_type": "code",
      "metadata": {
        "id": "ZHsuDaP2KjBb"
      },
      "source": [
        "model.compile(loss=\"binary_crossentropy\",metrics=[\"accuracy\"],optimizer=\"adam\")"
      ],
      "execution_count": 51,
      "outputs": []
    },
    {
      "cell_type": "code",
      "metadata": {
        "colab": {
          "base_uri": "https://localhost:8080/"
        },
        "id": "nFgQAILhMC9Z",
        "outputId": "368f14b3-d777-4d97-bb7c-0104de06c643"
      },
      "source": [
        "history = model.fit(train_datagen,epochs=30,validation_data=test_datagen, batch_size=30)"
      ],
      "execution_count": 52,
      "outputs": [
        {
          "output_type": "stream",
          "name": "stdout",
          "text": [
            "Epoch 1/30\n",
            "206/206 [==============================] - 12s 57ms/step - loss: 0.5534 - accuracy: 0.7556 - val_loss: 0.5009 - val_accuracy: 0.7572\n",
            "Epoch 2/30\n",
            "206/206 [==============================] - 12s 56ms/step - loss: 0.3923 - accuracy: 0.8434 - val_loss: 0.3604 - val_accuracy: 0.8656\n",
            "Epoch 3/30\n",
            "206/206 [==============================] - 12s 56ms/step - loss: 0.3220 - accuracy: 0.8813 - val_loss: 0.2814 - val_accuracy: 0.9002\n",
            "Epoch 4/30\n",
            "206/206 [==============================] - 12s 56ms/step - loss: 0.2809 - accuracy: 0.8935 - val_loss: 0.2292 - val_accuracy: 0.9053\n",
            "Epoch 5/30\n",
            "206/206 [==============================] - 12s 56ms/step - loss: 0.2618 - accuracy: 0.9044 - val_loss: 0.2866 - val_accuracy: 0.8956\n",
            "Epoch 6/30\n",
            "206/206 [==============================] - 12s 57ms/step - loss: 0.2444 - accuracy: 0.9129 - val_loss: 0.1954 - val_accuracy: 0.9229\n",
            "Epoch 7/30\n",
            "206/206 [==============================] - 12s 56ms/step - loss: 0.2007 - accuracy: 0.9280 - val_loss: 0.2091 - val_accuracy: 0.9240\n",
            "Epoch 8/30\n",
            "206/206 [==============================] - 12s 56ms/step - loss: 0.1894 - accuracy: 0.9326 - val_loss: 0.1791 - val_accuracy: 0.9416\n",
            "Epoch 9/30\n",
            "206/206 [==============================] - 12s 56ms/step - loss: 0.1964 - accuracy: 0.9309 - val_loss: 0.1798 - val_accuracy: 0.9342\n",
            "Epoch 10/30\n",
            "206/206 [==============================] - 12s 56ms/step - loss: 0.1891 - accuracy: 0.9375 - val_loss: 0.1712 - val_accuracy: 0.9433\n",
            "Epoch 11/30\n",
            "206/206 [==============================] - 12s 56ms/step - loss: 0.1833 - accuracy: 0.9397 - val_loss: 0.1437 - val_accuracy: 0.9461\n",
            "Epoch 12/30\n",
            "206/206 [==============================] - 12s 56ms/step - loss: 0.1677 - accuracy: 0.9426 - val_loss: 0.1851 - val_accuracy: 0.9314\n",
            "Epoch 13/30\n",
            "206/206 [==============================] - 12s 57ms/step - loss: 0.1867 - accuracy: 0.9326 - val_loss: 0.1443 - val_accuracy: 0.9427\n",
            "Epoch 14/30\n",
            "206/206 [==============================] - 12s 57ms/step - loss: 0.1540 - accuracy: 0.9441 - val_loss: 0.1314 - val_accuracy: 0.9495\n",
            "Epoch 15/30\n",
            "206/206 [==============================] - 12s 57ms/step - loss: 0.1551 - accuracy: 0.9424 - val_loss: 0.1324 - val_accuracy: 0.9552\n",
            "Epoch 16/30\n",
            "206/206 [==============================] - 12s 57ms/step - loss: 0.1630 - accuracy: 0.9438 - val_loss: 0.1206 - val_accuracy: 0.9558\n",
            "Epoch 17/30\n",
            "206/206 [==============================] - 12s 56ms/step - loss: 0.1470 - accuracy: 0.9487 - val_loss: 0.1248 - val_accuracy: 0.9580\n",
            "Epoch 18/30\n",
            "206/206 [==============================] - 12s 56ms/step - loss: 0.1443 - accuracy: 0.9492 - val_loss: 0.1329 - val_accuracy: 0.9541\n",
            "Epoch 19/30\n",
            "206/206 [==============================] - 12s 56ms/step - loss: 0.1398 - accuracy: 0.9533 - val_loss: 0.1488 - val_accuracy: 0.9507\n",
            "Epoch 20/30\n",
            "206/206 [==============================] - 12s 56ms/step - loss: 0.1434 - accuracy: 0.9465 - val_loss: 0.1238 - val_accuracy: 0.9546\n",
            "Epoch 21/30\n",
            "206/206 [==============================] - 12s 56ms/step - loss: 0.1343 - accuracy: 0.9543 - val_loss: 0.1248 - val_accuracy: 0.9524\n",
            "Epoch 22/30\n",
            "206/206 [==============================] - 12s 57ms/step - loss: 0.1345 - accuracy: 0.9540 - val_loss: 0.1167 - val_accuracy: 0.9631\n",
            "Epoch 23/30\n",
            "206/206 [==============================] - 12s 56ms/step - loss: 0.1290 - accuracy: 0.9550 - val_loss: 0.0984 - val_accuracy: 0.9648\n",
            "Epoch 24/30\n",
            "206/206 [==============================] - 12s 56ms/step - loss: 0.1276 - accuracy: 0.9548 - val_loss: 0.1407 - val_accuracy: 0.9433\n",
            "Epoch 25/30\n",
            "206/206 [==============================] - 12s 57ms/step - loss: 0.1396 - accuracy: 0.9511 - val_loss: 0.1055 - val_accuracy: 0.9643\n",
            "Epoch 26/30\n",
            "206/206 [==============================] - 12s 56ms/step - loss: 0.1108 - accuracy: 0.9616 - val_loss: 0.1218 - val_accuracy: 0.9558\n",
            "Epoch 27/30\n",
            "206/206 [==============================] - 12s 57ms/step - loss: 0.1268 - accuracy: 0.9521 - val_loss: 0.1462 - val_accuracy: 0.9478\n",
            "Epoch 28/30\n",
            "206/206 [==============================] - 12s 56ms/step - loss: 0.1194 - accuracy: 0.9601 - val_loss: 0.1203 - val_accuracy: 0.9586\n",
            "Epoch 29/30\n",
            "206/206 [==============================] - 12s 57ms/step - loss: 0.1398 - accuracy: 0.9548 - val_loss: 0.1919 - val_accuracy: 0.9416\n",
            "Epoch 30/30\n",
            "206/206 [==============================] - 12s 57ms/step - loss: 0.1343 - accuracy: 0.9494 - val_loss: 0.1025 - val_accuracy: 0.9648\n"
          ]
        }
      ]
    },
    {
      "cell_type": "code",
      "metadata": {
        "id": "wuh-iXjbMNFw",
        "colab": {
          "base_uri": "https://localhost:8080/",
          "height": 295
        },
        "outputId": "41a536a5-d28c-4b0a-c4a6-188e7f76cab8"
      },
      "source": [
        "import matplotlib.pyplot as plt\n",
        "\n",
        "loss_train = history.history['loss']\n",
        "loss_val = history.history['val_loss']\n",
        "epochs = range(1,31)\n",
        "plt.plot(epochs, loss_train, 'g', label='Training loss')\n",
        "plt.plot(epochs, loss_val, 'b', label='validation loss')\n",
        "plt.title('Training and Validation loss')\n",
        "plt.xlabel('Epochs')\n",
        "plt.ylabel('Loss')\n",
        "plt.legend()\n",
        "plt.show()"
      ],
      "execution_count": 55,
      "outputs": [
        {
          "output_type": "display_data",
          "data": {
            "image/png": "[encoded data removed]",
            "text/plain": [
              "<Figure size 432x288 with 1 Axes>"
            ]
          },
          "metadata": {
            "needs_background": "light"
          }
        }
      ]
    },
    {
      "cell_type": "code",
      "metadata": {
        "colab": {
          "base_uri": "https://localhost:8080/",
          "height": 295
        },
        "id": "qcRdnsN1RMoF",
        "outputId": "e21488df-9aa3-4429-828e-417eb37c327d"
      },
      "source": [
        "accuracy_train = history.history['accuracy']\n",
        "accuracy_val = history.history['val_accuracy']\n",
        "epochs = range(1,31)\n",
        "plt.plot(epochs, accuracy_train, 'g', label='Training accuracy')\n",
        "plt.plot(epochs, accuracy_val, 'b', label='validation accuracy')\n",
        "plt.title('Training and Validation accuracy')\n",
        "plt.xlabel('Epochs')\n",
        "plt.ylabel('Accuracy')\n",
        "plt.legend()\n",
        "plt.show()"
      ],
      "execution_count": 56,
      "outputs": [
        {
          "output_type": "display_data",
          "data": {
            "image/png": "[encoded data removed]",
            "text/plain": [
              "<Figure size 432x288 with 1 Axes>"
            ]
          },
          "metadata": {
            "needs_background": "light"
          }
        }
      ]
    },
    {
      "cell_type": "markdown",
      "metadata": {
        "id": "lQJZOOogSG1q"
      },
      "source": [
        "## Model Testing"
      ]
    },
    {
      "cell_type": "code",
      "metadata": {
        "id": "itah04BCS5t3"
      },
      "source": [
        "! unzip \"test.zip\""
      ],
      "execution_count": null,
      "outputs": []
    },
    {
      "cell_type": "code",
      "metadata": {
        "id": "0Lwz3eHYtuZS"
      },
      "source": [
        "from PIL import Image\n",
        "import numpy as np\n",
        "result = {}\n",
        "for filename in os.listdir('./test'):\n",
        "      img = Image.open('./test/' + filename)\n",
        "      img = np.array(img)\n",
        "      ans = 1 if model.predict(np.array([img]))[0][0]==1.0 else 0\n",
        "      result[filename] = ans"
      ],
      "execution_count": 59,
      "outputs": []
    },
    {
      "cell_type": "code",
      "metadata": {
        "id": "g6iK2CbYw8AL",
        "colab": {
          "base_uri": "https://localhost:8080/"
        },
        "outputId": "dab7f86a-8e8a-4432-ed84-77917109f9af"
      },
      "source": [
        "result"
      ],
      "execution_count": 60,
      "outputs": [
        {
          "output_type": "execute_result",
          "data": {
            "text/plain": [
              "{'1.jpg': 1,\n",
              " '10.jpg': 0,\n",
              " '11.jpg': 1,\n",
              " '12.jpg': 0,\n",
              " '13.jpg': 1,\n",
              " '14.jpg': 0,\n",
              " '15.jpg': 1,\n",
              " '16.jpg': 0,\n",
              " '17.jpg': 0,\n",
              " '18.jpg': 0,\n",
              " '19.jpg': 1,\n",
              " '2.jpg': 0,\n",
              " '20.jpg': 1,\n",
              " '21.jpg': 1,\n",
              " '22.jpg': 0,\n",
              " '23.jpg': 1,\n",
              " '24.jpg': 1,\n",
              " '25.jpg': 1,\n",
              " '26.jpg': 1,\n",
              " '27.jpg': 0,\n",
              " '28.jpg': 1,\n",
              " '29.jpg': 1,\n",
              " '3.jpg': 1,\n",
              " '30.jpg': 1,\n",
              " '31.jpg': 0,\n",
              " '32.jpg': 0,\n",
              " '33.jpg': 0,\n",
              " '34.jpg': 0,\n",
              " '35.jpg': 0,\n",
              " '36.jpg': 0,\n",
              " '37.jpg': 0,\n",
              " '38.jpg': 0,\n",
              " '39.jpg': 0,\n",
              " '4.jpg': 0,\n",
              " '40.jpg': 0,\n",
              " '41.jpg': 0,\n",
              " '42.jpg': 1,\n",
              " '43.jpg': 0,\n",
              " '44.jpg': 0,\n",
              " '45.jpg': 0,\n",
              " '46.jpg': 1,\n",
              " '47.jpg': 0,\n",
              " '48.jpg': 1,\n",
              " '49.jpg': 0,\n",
              " '5.jpg': 1,\n",
              " '50.jpg': 1,\n",
              " '51.jpg': 1,\n",
              " '52.jpg': 1,\n",
              " '53.jpg': 1,\n",
              " '54.jpg': 1,\n",
              " '55.jpg': 0,\n",
              " '56.jpg': 0,\n",
              " '57.jpg': 0,\n",
              " '58.jpg': 0,\n",
              " '59.jpg': 0,\n",
              " '6.jpg': 0,\n",
              " '60.jpg': 0,\n",
              " '61.jpg': 1,\n",
              " '62.jpg': 0,\n",
              " '63.jpg': 1,\n",
              " '64.jpg': 0,\n",
              " '65.jpg': 0,\n",
              " '66.jpg': 0,\n",
              " '67.jpg': 1,\n",
              " '68.jpg': 0,\n",
              " '69.jpg': 1,\n",
              " '7.jpg': 1,\n",
              " '70.jpg': 1,\n",
              " '71.jpg': 0,\n",
              " '72.jpg': 0,\n",
              " '73.jpg': 1,\n",
              " '74.jpg': 0,\n",
              " '75.jpg': 0,\n",
              " '76.jpg': 0,\n",
              " '77.jpg': 0,\n",
              " '78.jpg': 0,\n",
              " '79.jpg': 0,\n",
              " '8.jpg': 0,\n",
              " '80.jpg': 0,\n",
              " '81.jpg': 1,\n",
              " '82.jpg': 1,\n",
              " '83.jpg': 1,\n",
              " '84.jpg': 1,\n",
              " '85.jpg': 0,\n",
              " '86.jpg': 0,\n",
              " '87.jpg': 0,\n",
              " '88.jpg': 0,\n",
              " '89.jpg': 0,\n",
              " '9.jpg': 0,\n",
              " '90.jpg': 1,\n",
              " '91.jpg': 0,\n",
              " '92.jpg': 1,\n",
              " '93.jpg': 0,\n",
              " '94.jpg': 1,\n",
              " '95.jpg': 0,\n",
              " '96.jpg': 0,\n",
              " '97.jpg': 0,\n",
              " '98.jpg': 0}"
            ]
          },
          "metadata": {},
          "execution_count": 60
        }
      ]
    },
    {
      "cell_type": "markdown",
      "metadata": {
        "id": "oXqNnq1RytsP"
      },
      "source": [
        "# Creating Sample Output"
      ]
    },
    {
      "cell_type": "code",
      "metadata": {
        "id": "q5-QZf85yvx7"
      },
      "source": [
        "import random\n",
        "import json\n",
        "# from utils.io import write_json\n",
        "\n",
        "def write_json(filename, result):\n",
        "    with open(filename, 'w') as outfile:\n",
        "        json.dump(result, outfile)\n",
        "\n",
        "def read_json(filename):\n",
        "    with open(filename, 'r') as outfile:\n",
        "        data =  json.load(outfile)\n",
        "    return data\n",
        "\n",
        "def generate_sample_file(filename):\n",
        "    res = {}\n",
        "    for i in range(1,99):\n",
        "        test_set = str(i) + '.jpg'\n",
        "        res[test_set] = result[test_set]\n",
        "    write_json(filename, res)\n",
        "\n",
        "if __name__ == '__main__':\n",
        "    generate_sample_file('./sample_result2.json')"
      ],
      "execution_count": 61,
      "outputs": []
    },
    {
      "cell_type": "code",
      "metadata": {
        "id": "jS-zFVcw66bl"
      },
      "source": [
        ""
      ],
      "execution_count": null,
      "outputs": []
    }
  ]
}