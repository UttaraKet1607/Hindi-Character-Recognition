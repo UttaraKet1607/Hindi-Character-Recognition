{
  "nbformat": 4,
  "nbformat_minor": 0,
  "metadata": {
    "colab": {
      "name": "CNN_Split_Training.ipynb",
      "provenance": [],
      "include_colab_link": true
    },
    "kernelspec": {
      "name": "python3",
      "display_name": "Python 3"
    },
    "language_info": {
      "name": "python"
    },
    "accelerator": "GPU"
  },
  "cells": [
    {
      "cell_type": "markdown",
      "metadata": {
        "id": "view-in-github",
        "colab_type": "text"
      },
      "source": [
        "<a href=\"https://colab.research.google.com/github/UttaraKet1607/Hindi-Character-Recognition/blob/main/Final_CNN_model.ipynb\" target=\"_parent\"><img src=\"https://colab.research.google.com/assets/colab-badge.svg\" alt=\"Open In Colab\"/></a>"
      ]
    },
    {
      "cell_type": "code",
      "metadata": {
        "id": "rJs0UL2NEtp_"
      },
      "source": [
        "! unzip \"training.zip\""
      ],
      "execution_count": null,
      "outputs": []
    },
    {
      "cell_type": "code",
      "metadata": {
        "id": "Xam5YdIGGMVo"
      },
      "source": [
        "import os\n",
        "import shutil\n",
        "from tensorflow.keras.preprocessing import image\n",
        "from tensorflow.keras.models import Sequential, load_model\n",
        "from tensorflow.keras.layers import Conv2D, MaxPool2D, Dense, Flatten, Dropout"
      ],
      "execution_count": 2,
      "outputs": []
    },
    {
      "cell_type": "markdown",
      "metadata": {
        "id": "kx8O815jIwoo"
      },
      "source": [
        "## Creating a Validation Set"
      ]
    },
    {
      "cell_type": "code",
      "metadata": {
        "id": "IWxQsJaRFrtz"
      },
      "source": [
        "os.mkdir('validation')\n",
        "os.mkdir('./validation/background')\n",
        "os.mkdir('./validation/hi')"
      ],
      "execution_count": 3,
      "outputs": []
    },
    {
      "cell_type": "code",
      "metadata": {
        "colab": {
          "base_uri": "https://localhost:8080/"
        },
        "id": "pXiTggRQGwyL",
        "outputId": "1e5fc9a3-ebce-4ab4-a1b2-61887878fcd9"
      },
      "source": [
        "#finding total number of files in each class\n",
        "bg_imgs = os.listdir('./training/background') \n",
        "hi_imgs = os.listdir('./training/hi')\n",
        "print(len(bg_imgs))\n",
        "print(len(hi_imgs))\n",
        "# ? class imbalance "
      ],
      "execution_count": 4,
      "outputs": [
        {
          "output_type": "stream",
          "name": "stdout",
          "text": [
            "4450\n",
            "1425\n"
          ]
        }
      ]
    },
    {
      "cell_type": "code",
      "metadata": {
        "id": "IdqWZ9iBGKkD"
      },
      "source": [
        "validation_imgs = bg_imgs[3115:] #30% of 4450\n",
        "len(validation_imgs)\n",
        "for f in validation_imgs:\n",
        "  shutil.move(os.path.join('./training/background',f),'./validation/background')"
      ],
      "execution_count": 5,
      "outputs": []
    },
    {
      "cell_type": "code",
      "metadata": {
        "id": "zH47LXj7HuBZ"
      },
      "source": [
        "validation_imgs = hi_imgs[997:] #30% of 1425\n",
        "len(validation_imgs)\n",
        "for f in validation_imgs:\n",
        "  shutil.move(os.path.join('./training/hi',f),'./validation/hi')"
      ],
      "execution_count": 6,
      "outputs": []
    },
    {
      "cell_type": "markdown",
      "metadata": {
        "id": "D5nb7argI0Zg"
      },
      "source": [
        "## Data Preparation"
      ]
    },
    {
      "cell_type": "code",
      "metadata": {
        "colab": {
          "base_uri": "https://localhost:8080/"
        },
        "id": "T-8Ut6T8I_j0",
        "outputId": "44ca1bac-f463-4cda-923c-e13ed219f9c3"
      },
      "source": [
        "generator = image.ImageDataGenerator(rescale=1./255, rotation_range=40,       \n",
        "      width_shift_range=0.2,   \n",
        "      height_shift_range=0.2,  \n",
        "      shear_range=0.2,         \n",
        "      zoom_range=0.2,           \n",
        "      horizontal_flip=True,    \n",
        "      fill_mode=\"nearest\")\n",
        "train_datagen = generator.flow_from_directory('./training',target_size=(64,64),classes=['background','hi'],class_mode='binary',batch_size=20)\n",
        "test_datagen = generator.flow_from_directory('./validation',target_size=(64,64),classes=['background','hi'],class_mode='binary',batch_size=20)\n"
      ],
      "execution_count": 7,
      "outputs": [
        {
          "output_type": "stream",
          "name": "stdout",
          "text": [
            "Found 4112 images belonging to 2 classes.\n",
            "Found 1763 images belonging to 2 classes.\n"
          ]
        }
      ]
    },
    {
      "cell_type": "markdown",
      "metadata": {
        "id": "pv6fbINSLcia"
      },
      "source": [
        "## Model Building"
      ]
    },
    {
      "cell_type": "code",
      "metadata": {
        "id": "UpoMaPAUJu3h"
      },
      "source": [
        "model = Sequential()\n",
        "model.add(Conv2D(32, (3,3), activation = \"relu\", input_shape=(64,64,3)))\n",
        "model.add(MaxPool2D((2,2), padding = \"same\"))\n",
        "model.add(Conv2D(32, (3,3), activation = \"relu\", input_shape=(64,64,3)))\n",
        "model.add(MaxPool2D((2,2), padding = \"same\"))\n",
        "model.add(Conv2D(32, (3,3), activation = \"relu\", input_shape=(64,64,3)))\n",
        "model.add(MaxPool2D((2,2), padding = \"same\"))\n",
        "model.add(Conv2D(32, (3,3), activation = \"relu\", input_shape=(64,64,3)))\n",
        "model.add(MaxPool2D((2,2), padding = \"same\"))\n",
        "model.add(Dropout(0.2))\n",
        "model.add(Flatten())\n",
        "model.add(Dense(128, activation= \"relu\"))\n",
        "model.add(Dense(128, activation= \"relu\"))\n",
        "model.add(Dense(1, activation = \"sigmoid\"))"
      ],
      "execution_count": 25,
      "outputs": []
    },
    {
      "cell_type": "code",
      "metadata": {
        "id": "ZHsuDaP2KjBb"
      },
      "source": [
        "model.compile(loss=\"binary_crossentropy\",metrics=[\"accuracy\"],optimizer=\"adam\")"
      ],
      "execution_count": 26,
      "outputs": []
    },
    {
      "cell_type": "code",
      "metadata": {
        "colab": {
          "base_uri": "https://localhost:8080/"
        },
        "id": "nFgQAILhMC9Z",
        "outputId": "4017df50-79ad-498e-ee0b-0f6740d1438f"
      },
      "source": [
        "history = model.fit(train_datagen,epochs=50,validation_data=test_datagen, batch_size=30)"
      ],
      "execution_count": 27,
      "outputs": [
        {
          "output_type": "stream",
          "name": "stdout",
          "text": [
            "Epoch 1/50\n",
            "206/206 [==============================] - 12s 57ms/step - loss: 0.4958 - accuracy: 0.7875 - val_loss: 0.3750 - val_accuracy: 0.8349\n",
            "Epoch 2/50\n",
            "206/206 [==============================] - 11s 56ms/step - loss: 0.3093 - accuracy: 0.8769 - val_loss: 0.2798 - val_accuracy: 0.8951\n",
            "Epoch 3/50\n",
            "206/206 [==============================] - 11s 55ms/step - loss: 0.2768 - accuracy: 0.8923 - val_loss: 0.2181 - val_accuracy: 0.9132\n",
            "Epoch 4/50\n",
            "206/206 [==============================] - 11s 55ms/step - loss: 0.2142 - accuracy: 0.9183 - val_loss: 0.1663 - val_accuracy: 0.9399\n",
            "Epoch 5/50\n",
            "206/206 [==============================] - 11s 55ms/step - loss: 0.1966 - accuracy: 0.9285 - val_loss: 0.1568 - val_accuracy: 0.9370\n",
            "Epoch 6/50\n",
            "206/206 [==============================] - 11s 55ms/step - loss: 0.1745 - accuracy: 0.9365 - val_loss: 0.1517 - val_accuracy: 0.9495\n",
            "Epoch 7/50\n",
            "206/206 [==============================] - 11s 55ms/step - loss: 0.1739 - accuracy: 0.9351 - val_loss: 0.1494 - val_accuracy: 0.9427\n",
            "Epoch 8/50\n",
            "206/206 [==============================] - 11s 55ms/step - loss: 0.1699 - accuracy: 0.9394 - val_loss: 0.1410 - val_accuracy: 0.9461\n",
            "Epoch 9/50\n",
            "206/206 [==============================] - 11s 55ms/step - loss: 0.1716 - accuracy: 0.9346 - val_loss: 0.1288 - val_accuracy: 0.9507\n",
            "Epoch 10/50\n",
            "206/206 [==============================] - 11s 55ms/step - loss: 0.1358 - accuracy: 0.9446 - val_loss: 0.2120 - val_accuracy: 0.9280\n",
            "Epoch 11/50\n",
            "206/206 [==============================] - 11s 55ms/step - loss: 0.1510 - accuracy: 0.9411 - val_loss: 0.2181 - val_accuracy: 0.9297\n",
            "Epoch 12/50\n",
            "206/206 [==============================] - 11s 55ms/step - loss: 0.1284 - accuracy: 0.9538 - val_loss: 0.1154 - val_accuracy: 0.9586\n",
            "Epoch 13/50\n",
            "206/206 [==============================] - 11s 55ms/step - loss: 0.1276 - accuracy: 0.9518 - val_loss: 0.1175 - val_accuracy: 0.9558\n",
            "Epoch 14/50\n",
            "206/206 [==============================] - 12s 56ms/step - loss: 0.1263 - accuracy: 0.9550 - val_loss: 0.0957 - val_accuracy: 0.9648\n",
            "Epoch 15/50\n",
            "206/206 [==============================] - 12s 57ms/step - loss: 0.1266 - accuracy: 0.9533 - val_loss: 0.1144 - val_accuracy: 0.9569\n",
            "Epoch 16/50\n",
            "206/206 [==============================] - 11s 55ms/step - loss: 0.1180 - accuracy: 0.9557 - val_loss: 0.1105 - val_accuracy: 0.9597\n",
            "Epoch 17/50\n",
            "206/206 [==============================] - 12s 57ms/step - loss: 0.1204 - accuracy: 0.9572 - val_loss: 0.1472 - val_accuracy: 0.9495\n",
            "Epoch 18/50\n",
            "206/206 [==============================] - 12s 57ms/step - loss: 0.1241 - accuracy: 0.9526 - val_loss: 0.1370 - val_accuracy: 0.9472\n",
            "Epoch 19/50\n",
            "206/206 [==============================] - 11s 56ms/step - loss: 0.1065 - accuracy: 0.9606 - val_loss: 0.1103 - val_accuracy: 0.9580\n",
            "Epoch 20/50\n",
            "206/206 [==============================] - 12s 57ms/step - loss: 0.1151 - accuracy: 0.9582 - val_loss: 0.1148 - val_accuracy: 0.9626\n",
            "Epoch 21/50\n",
            "206/206 [==============================] - 11s 56ms/step - loss: 0.1110 - accuracy: 0.9618 - val_loss: 0.0958 - val_accuracy: 0.9654\n",
            "Epoch 22/50\n",
            "206/206 [==============================] - 11s 56ms/step - loss: 0.1012 - accuracy: 0.9628 - val_loss: 0.0975 - val_accuracy: 0.9648\n",
            "Epoch 23/50\n",
            "206/206 [==============================] - 11s 56ms/step - loss: 0.1047 - accuracy: 0.9623 - val_loss: 0.1067 - val_accuracy: 0.9592\n",
            "Epoch 24/50\n",
            "206/206 [==============================] - 12s 56ms/step - loss: 0.1101 - accuracy: 0.9587 - val_loss: 0.0912 - val_accuracy: 0.9620\n",
            "Epoch 25/50\n",
            "206/206 [==============================] - 12s 56ms/step - loss: 0.1059 - accuracy: 0.9594 - val_loss: 0.1195 - val_accuracy: 0.9597\n",
            "Epoch 26/50\n",
            "206/206 [==============================] - 12s 57ms/step - loss: 0.0911 - accuracy: 0.9674 - val_loss: 0.0791 - val_accuracy: 0.9722\n",
            "Epoch 27/50\n",
            "206/206 [==============================] - 12s 56ms/step - loss: 0.0975 - accuracy: 0.9630 - val_loss: 0.0935 - val_accuracy: 0.9665\n",
            "Epoch 28/50\n",
            "206/206 [==============================] - 12s 56ms/step - loss: 0.0898 - accuracy: 0.9638 - val_loss: 0.0913 - val_accuracy: 0.9643\n",
            "Epoch 29/50\n",
            "206/206 [==============================] - 12s 56ms/step - loss: 0.0968 - accuracy: 0.9657 - val_loss: 0.1030 - val_accuracy: 0.9637\n",
            "Epoch 30/50\n",
            "206/206 [==============================] - 12s 56ms/step - loss: 0.0997 - accuracy: 0.9625 - val_loss: 0.0839 - val_accuracy: 0.9728\n",
            "Epoch 31/50\n",
            "206/206 [==============================] - 11s 56ms/step - loss: 0.1005 - accuracy: 0.9594 - val_loss: 0.0852 - val_accuracy: 0.9711\n",
            "Epoch 32/50\n",
            "206/206 [==============================] - 11s 55ms/step - loss: 0.0918 - accuracy: 0.9684 - val_loss: 0.0745 - val_accuracy: 0.9722\n",
            "Epoch 33/50\n",
            "206/206 [==============================] - 11s 55ms/step - loss: 0.0896 - accuracy: 0.9664 - val_loss: 0.0839 - val_accuracy: 0.9694\n",
            "Epoch 34/50\n",
            "206/206 [==============================] - 11s 55ms/step - loss: 0.0961 - accuracy: 0.9630 - val_loss: 0.0794 - val_accuracy: 0.9722\n",
            "Epoch 35/50\n",
            "206/206 [==============================] - 11s 56ms/step - loss: 0.0842 - accuracy: 0.9684 - val_loss: 0.1003 - val_accuracy: 0.9637\n",
            "Epoch 36/50\n",
            "206/206 [==============================] - 11s 55ms/step - loss: 0.0970 - accuracy: 0.9638 - val_loss: 0.0738 - val_accuracy: 0.9739\n",
            "Epoch 37/50\n",
            "206/206 [==============================] - 11s 55ms/step - loss: 0.0887 - accuracy: 0.9669 - val_loss: 0.1089 - val_accuracy: 0.9682\n",
            "Epoch 38/50\n",
            "206/206 [==============================] - 11s 56ms/step - loss: 0.0821 - accuracy: 0.9696 - val_loss: 0.0696 - val_accuracy: 0.9779\n",
            "Epoch 39/50\n",
            "206/206 [==============================] - 12s 56ms/step - loss: 0.0933 - accuracy: 0.9694 - val_loss: 0.0828 - val_accuracy: 0.9671\n",
            "Epoch 40/50\n",
            "206/206 [==============================] - 12s 56ms/step - loss: 0.0771 - accuracy: 0.9706 - val_loss: 0.0627 - val_accuracy: 0.9756\n",
            "Epoch 41/50\n",
            "206/206 [==============================] - 12s 57ms/step - loss: 0.0815 - accuracy: 0.9681 - val_loss: 0.0710 - val_accuracy: 0.9756\n",
            "Epoch 42/50\n",
            "206/206 [==============================] - 12s 57ms/step - loss: 0.0701 - accuracy: 0.9740 - val_loss: 0.0876 - val_accuracy: 0.9733\n",
            "Epoch 43/50\n",
            "206/206 [==============================] - 12s 57ms/step - loss: 0.0794 - accuracy: 0.9735 - val_loss: 0.0732 - val_accuracy: 0.9722\n",
            "Epoch 44/50\n",
            "206/206 [==============================] - 12s 57ms/step - loss: 0.0804 - accuracy: 0.9708 - val_loss: 0.0751 - val_accuracy: 0.9767\n",
            "Epoch 45/50\n",
            "206/206 [==============================] - 12s 57ms/step - loss: 0.0837 - accuracy: 0.9655 - val_loss: 0.0687 - val_accuracy: 0.9750\n",
            "Epoch 46/50\n",
            "206/206 [==============================] - 12s 57ms/step - loss: 0.0818 - accuracy: 0.9715 - val_loss: 0.0658 - val_accuracy: 0.9784\n",
            "Epoch 47/50\n",
            "206/206 [==============================] - 12s 57ms/step - loss: 0.0821 - accuracy: 0.9730 - val_loss: 0.0739 - val_accuracy: 0.9716\n",
            "Epoch 48/50\n",
            "206/206 [==============================] - 12s 57ms/step - loss: 0.0731 - accuracy: 0.9735 - val_loss: 0.0639 - val_accuracy: 0.9779\n",
            "Epoch 49/50\n",
            "206/206 [==============================] - 12s 57ms/step - loss: 0.0713 - accuracy: 0.9723 - val_loss: 0.0579 - val_accuracy: 0.9773\n",
            "Epoch 50/50\n",
            "206/206 [==============================] - 12s 57ms/step - loss: 0.0698 - accuracy: 0.9779 - val_loss: 0.0589 - val_accuracy: 0.9773\n"
          ]
        }
      ]
    },
    {
      "cell_type": "code",
      "metadata": {
        "id": "wuh-iXjbMNFw",
        "colab": {
          "base_uri": "https://localhost:8080/",
          "height": 295
        },
        "outputId": "2e77e8e0-8f38-49f7-9ef0-583622b91bfd"
      },
      "source": [
        "import matplotlib.pyplot as plt\n",
        "\n",
        "loss_train = history.history['loss']\n",
        "loss_val = history.history['val_loss']\n",
        "epochs = range(1,51)\n",
        "plt.plot(epochs, loss_train, 'g', label='Training loss')\n",
        "plt.plot(epochs, loss_val, 'b', label='validation loss')\n",
        "plt.title('Training and Validation loss')\n",
        "plt.xlabel('Epochs')\n",
        "plt.ylabel('Loss')\n",
        "plt.legend()\n",
        "plt.show()"
      ],
      "execution_count": 29,
      "outputs": [
        {
          "output_type": "display_data",
          "data": {
            "image/png": "[encoded data removed]",
            "text/plain": [
              "<Figure size 432x288 with 1 Axes>"
            ]
          },
          "metadata": {
            "needs_background": "light"
          }
        }
      ]
    },
    {
      "cell_type": "code",
      "metadata": {
        "colab": {
          "base_uri": "https://localhost:8080/",
          "height": 295
        },
        "id": "qcRdnsN1RMoF",
        "outputId": "5a4d8523-9615-42ef-d983-684eb2c46718"
      },
      "source": [
        "accuracy_train = history.history['accuracy']\n",
        "accuracy_val = history.history['val_accuracy']\n",
        "epochs = range(1,51)\n",
        "plt.plot(epochs, accuracy_train, 'g', label='Training accuracy')\n",
        "plt.plot(epochs, accuracy_val, 'b', label='validation accuracy')\n",
        "plt.title('Training and Validation accuracy')\n",
        "plt.xlabel('Epochs')\n",
        "plt.ylabel('Accuracy')\n",
        "plt.legend()\n",
        "plt.show()"
      ],
      "execution_count": 30,
      "outputs": [
        {
          "output_type": "display_data",
          "data": {
            "image/png": "[encoded data removed]",
            "text/plain": [
              "<Figure size 432x288 with 1 Axes>"
            ]
          },
          "metadata": {
            "needs_background": "light"
          }
        }
      ]
    },
    {
      "cell_type": "markdown",
      "metadata": {
        "id": "lQJZOOogSG1q"
      },
      "source": [
        "## Model Testing"
      ]
    },
    {
      "cell_type": "code",
      "metadata": {
        "id": "itah04BCS5t3"
      },
      "source": [
        "! unzip \"test.zip\""
      ],
      "execution_count": null,
      "outputs": []
    },
    {
      "cell_type": "code",
      "metadata": {
        "id": "0Lwz3eHYtuZS"
      },
      "source": [
        "from PIL import Image\n",
        "import numpy as np\n",
        "result = {}\n",
        "for filename in os.listdir('./test'):\n",
        "      img = Image.open('./test/' + filename)\n",
        "      img = np.array(img)\n",
        "      ans = 1 if model.predict(np.array([img]))[0][0]==1.0 else 0\n",
        "      result[filename] = ans"
      ],
      "execution_count": 32,
      "outputs": []
    },
    {
      "cell_type": "code",
      "metadata": {
        "id": "g6iK2CbYw8AL",
        "colab": {
          "base_uri": "https://localhost:8080/"
        },
        "outputId": "7a08b3ce-3936-4d95-bbc8-935e0d21eeae"
      },
      "source": [
        "result"
      ],
      "execution_count": 34,
      "outputs": [
        {
          "output_type": "execute_result",
          "data": {
            "text/plain": [
              "{'1.jpg': 1,\n",
              " '10.jpg': 0,\n",
              " '11.jpg': 1,\n",
              " '12.jpg': 0,\n",
              " '13.jpg': 1,\n",
              " '14.jpg': 0,\n",
              " '15.jpg': 1,\n",
              " '16.jpg': 0,\n",
              " '17.jpg': 0,\n",
              " '18.jpg': 0,\n",
              " '19.jpg': 1,\n",
              " '2.jpg': 0,\n",
              " '20.jpg': 1,\n",
              " '21.jpg': 1,\n",
              " '22.jpg': 1,\n",
              " '23.jpg': 1,\n",
              " '24.jpg': 1,\n",
              " '25.jpg': 1,\n",
              " '26.jpg': 1,\n",
              " '27.jpg': 0,\n",
              " '28.jpg': 1,\n",
              " '29.jpg': 1,\n",
              " '3.jpg': 1,\n",
              " '30.jpg': 1,\n",
              " '31.jpg': 0,\n",
              " '32.jpg': 0,\n",
              " '33.jpg': 0,\n",
              " '34.jpg': 0,\n",
              " '35.jpg': 1,\n",
              " '36.jpg': 0,\n",
              " '37.jpg': 0,\n",
              " '38.jpg': 0,\n",
              " '39.jpg': 0,\n",
              " '4.jpg': 0,\n",
              " '40.jpg': 1,\n",
              " '41.jpg': 0,\n",
              " '42.jpg': 1,\n",
              " '43.jpg': 1,\n",
              " '44.jpg': 0,\n",
              " '45.jpg': 0,\n",
              " '46.jpg': 1,\n",
              " '47.jpg': 0,\n",
              " '48.jpg': 1,\n",
              " '49.jpg': 0,\n",
              " '5.jpg': 1,\n",
              " '50.jpg': 1,\n",
              " '51.jpg': 1,\n",
              " '52.jpg': 1,\n",
              " '53.jpg': 1,\n",
              " '54.jpg': 1,\n",
              " '55.jpg': 0,\n",
              " '56.jpg': 0,\n",
              " '57.jpg': 0,\n",
              " '58.jpg': 0,\n",
              " '59.jpg': 0,\n",
              " '6.jpg': 0,\n",
              " '60.jpg': 0,\n",
              " '61.jpg': 1,\n",
              " '62.jpg': 1,\n",
              " '63.jpg': 1,\n",
              " '64.jpg': 0,\n",
              " '65.jpg': 0,\n",
              " '66.jpg': 0,\n",
              " '67.jpg': 1,\n",
              " '68.jpg': 0,\n",
              " '69.jpg': 1,\n",
              " '7.jpg': 1,\n",
              " '70.jpg': 1,\n",
              " '71.jpg': 1,\n",
              " '72.jpg': 0,\n",
              " '73.jpg': 1,\n",
              " '74.jpg': 0,\n",
              " '75.jpg': 0,\n",
              " '76.jpg': 0,\n",
              " '77.jpg': 0,\n",
              " '78.jpg': 0,\n",
              " '79.jpg': 0,\n",
              " '8.jpg': 0,\n",
              " '80.jpg': 0,\n",
              " '81.jpg': 1,\n",
              " '82.jpg': 1,\n",
              " '83.jpg': 1,\n",
              " '84.jpg': 0,\n",
              " '85.jpg': 0,\n",
              " '86.jpg': 0,\n",
              " '87.jpg': 0,\n",
              " '88.jpg': 0,\n",
              " '89.jpg': 0,\n",
              " '9.jpg': 1,\n",
              " '90.jpg': 1,\n",
              " '91.jpg': 0,\n",
              " '92.jpg': 1,\n",
              " '93.jpg': 0,\n",
              " '94.jpg': 1,\n",
              " '95.jpg': 0,\n",
              " '96.jpg': 0,\n",
              " '97.jpg': 0,\n",
              " '98.jpg': 0}"
            ]
          },
          "metadata": {},
          "execution_count": 34
        }
      ]
    },
    {
      "cell_type": "markdown",
      "metadata": {
        "id": "oXqNnq1RytsP"
      },
      "source": [
        "# Creating Sample Output"
      ]
    },
    {
      "cell_type": "code",
      "metadata": {
        "id": "q5-QZf85yvx7"
      },
      "source": [
        "import random\n",
        "import json\n",
        "# from utils.io import write_json\n",
        "\n",
        "def write_json(filename, result):\n",
        "    with open(filename, 'w') as outfile:\n",
        "        json.dump(result, outfile)\n",
        "\n",
        "def read_json(filename):\n",
        "    with open(filename, 'r') as outfile:\n",
        "        data =  json.load(outfile)\n",
        "    return data\n",
        "\n",
        "def generate_sample_file(filename):\n",
        "    res = {}\n",
        "    for i in range(1,99):\n",
        "        test_set = str(i) + '.jpg'\n",
        "        res[test_set] = result[test_set]\n",
        "    write_json(filename, res)\n",
        "\n",
        "if __name__ == '__main__':\n",
        "    generate_sample_file('./sample_result1.json')"
      ],
      "execution_count": 35,
      "outputs": []
    },
    {
      "cell_type": "code",
      "metadata": {
        "id": "jS-zFVcw66bl"
      },
      "source": [
        ""
      ],
      "execution_count": null,
      "outputs": []
    }
  ]
}