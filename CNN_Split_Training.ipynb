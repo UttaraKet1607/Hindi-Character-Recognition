{
  "nbformat": 4,
  "nbformat_minor": 0,
  "metadata": {
    "colab": {
      "name": "CNN_Split_Training.ipynb",
      "provenance": [],
      "include_colab_link": true
    },
    "kernelspec": {
      "name": "python3",
      "display_name": "Python 3"
    },
    "language_info": {
      "name": "python"
    },
    "accelerator": "GPU"
  },
  "cells": [
    {
      "cell_type": "markdown",
      "metadata": {
        "id": "view-in-github",
        "colab_type": "text"
      },
      "source": [
        "<a href=\"https://colab.research.google.com/github/UttaraKet1607/Hindi-Character-Recognition/blob/main/CNN_Split_Training.ipynb\" target=\"_parent\"><img src=\"https://colab.research.google.com/assets/colab-badge.svg\" alt=\"Open In Colab\"/></a>"
      ]
    },
    {
      "cell_type": "code",
      "metadata": {
        "id": "rJs0UL2NEtp_"
      },
      "source": [
        "! unzip \"training.zip\""
      ],
      "execution_count": null,
      "outputs": []
    },
    {
      "cell_type": "code",
      "metadata": {
        "id": "Xam5YdIGGMVo"
      },
      "source": [
        "import os\n",
        "import shutil\n",
        "from tensorflow.keras.preprocessing import image\n",
        "from tensorflow.keras.models import Sequential, load_model\n",
        "from tensorflow.keras.layers import Conv2D, MaxPool2D, Dense, Flatten, Dropout"
      ],
      "execution_count": 5,
      "outputs": []
    },
    {
      "cell_type": "markdown",
      "metadata": {
        "id": "kx8O815jIwoo"
      },
      "source": [
        "## Creating a Validation Set"
      ]
    },
    {
      "cell_type": "code",
      "metadata": {
        "id": "IWxQsJaRFrtz"
      },
      "source": [
        "os.mkdir('validation')\n",
        "os.mkdir('./validation/background')\n",
        "os.mkdir('./validation/hi')"
      ],
      "execution_count": 6,
      "outputs": []
    },
    {
      "cell_type": "code",
      "metadata": {
        "colab": {
          "base_uri": "https://localhost:8080/"
        },
        "id": "pXiTggRQGwyL",
        "outputId": "aca0022f-0b7c-4178-a880-2ba0d085a93e"
      },
      "source": [
        "#finding total number of files in each class\n",
        "bg_imgs = os.listdir('./training/background') \n",
        "hi_imgs = os.listdir('./training/hi')\n",
        "print(len(bg_imgs))\n",
        "print(len(hi_imgs))\n",
        "# ? class imbalance "
      ],
      "execution_count": 7,
      "outputs": [
        {
          "output_type": "stream",
          "name": "stdout",
          "text": [
            "4450\n",
            "1425\n"
          ]
        }
      ]
    },
    {
      "cell_type": "code",
      "metadata": {
        "id": "IdqWZ9iBGKkD"
      },
      "source": [
        "validation_imgs = bg_imgs[3115:] #30% of 4450\n",
        "len(validation_imgs)\n",
        "for f in validation_imgs:\n",
        "  shutil.move(os.path.join('./training/background',f),'./validation/background')"
      ],
      "execution_count": 8,
      "outputs": []
    },
    {
      "cell_type": "code",
      "metadata": {
        "id": "zH47LXj7HuBZ"
      },
      "source": [
        "validation_imgs = hi_imgs[997:] #30% of 1425\n",
        "len(validation_imgs)\n",
        "for f in validation_imgs:\n",
        "  shutil.move(os.path.join('./training/hi',f),'./validation/hi')"
      ],
      "execution_count": 9,
      "outputs": []
    },
    {
      "cell_type": "markdown",
      "metadata": {
        "id": "D5nb7argI0Zg"
      },
      "source": [
        "## Data Preparation"
      ]
    },
    {
      "cell_type": "code",
      "metadata": {
        "colab": {
          "base_uri": "https://localhost:8080/"
        },
        "id": "T-8Ut6T8I_j0",
        "outputId": "8d683e5d-4e6b-4b5d-d073-e6513a385219"
      },
      "source": [
        "generator = image.ImageDataGenerator(rescale=1./255, rotation_range=40,       \n",
        "      width_shift_range=0.2,   \n",
        "      height_shift_range=0.2,  \n",
        "      shear_range=0.2,         \n",
        "      zoom_range=0.2,           \n",
        "      horizontal_flip=True,    \n",
        "      fill_mode=\"nearest\")\n",
        "train_datagen = generator.flow_from_directory('./training',target_size=(150,150),classes=['background','hi'],class_mode='binary',batch_size=20)\n",
        "test_datagen = generator.flow_from_directory('./validation',target_size=(150,150),classes=['background','hi'],class_mode='binary',batch_size=20)\n"
      ],
      "execution_count": 10,
      "outputs": [
        {
          "output_type": "stream",
          "name": "stdout",
          "text": [
            "Found 4112 images belonging to 2 classes.\n",
            "Found 1763 images belonging to 2 classes.\n"
          ]
        }
      ]
    },
    {
      "cell_type": "markdown",
      "metadata": {
        "id": "pv6fbINSLcia"
      },
      "source": [
        "## Model Building"
      ]
    },
    {
      "cell_type": "code",
      "metadata": {
        "id": "UpoMaPAUJu3h"
      },
      "source": [
        "model = Sequential()\n",
        "model.add(Conv2D(32, (3,3), activation = \"relu\", input_shape=(150,150,3)))\n",
        "model.add(MaxPool2D((2,2), padding = \"same\"))\n",
        "model.add(Conv2D(32, (3,3), activation = \"relu\", input_shape=(150,150,3)))\n",
        "model.add(MaxPool2D((2,2), padding = \"same\"))\n",
        "model.add(Flatten())\n",
        "model.add(Dense(128, activation= \"relu\"))\n",
        "model.add(Dense(128, activation= \"relu\"))\n",
        "model.add(Dense(1, activation = \"sigmoid\"))"
      ],
      "execution_count": 15,
      "outputs": []
    },
    {
      "cell_type": "code",
      "metadata": {
        "id": "ZHsuDaP2KjBb"
      },
      "source": [
        "model.compile(loss=\"binary_crossentropy\",metrics=[\"accuracy\"],optimizer=\"adam\")"
      ],
      "execution_count": 16,
      "outputs": []
    },
    {
      "cell_type": "code",
      "metadata": {
        "colab": {
          "base_uri": "https://localhost:8080/"
        },
        "id": "nFgQAILhMC9Z",
        "outputId": "1cd80445-5124-428f-94e9-7b97cdf82d16"
      },
      "source": [
        "history = model.fit(train_datagen,epochs=10,validation_data=test_datagen)"
      ],
      "execution_count": 17,
      "outputs": [
        {
          "output_type": "stream",
          "name": "stdout",
          "text": [
            "Epoch 1/10\n",
            "206/206 [==============================] - 36s 174ms/step - loss: 0.4388 - accuracy: 0.8071 - val_loss: 0.3514 - val_accuracy: 0.8588\n",
            "Epoch 2/10\n",
            "206/206 [==============================] - 36s 175ms/step - loss: 0.3114 - accuracy: 0.8711 - val_loss: 0.2855 - val_accuracy: 0.8763\n",
            "Epoch 3/10\n",
            "206/206 [==============================] - 35s 172ms/step - loss: 0.2901 - accuracy: 0.8928 - val_loss: 0.2640 - val_accuracy: 0.8973\n",
            "Epoch 4/10\n",
            "206/206 [==============================] - 35s 172ms/step - loss: 0.2574 - accuracy: 0.9047 - val_loss: 0.2636 - val_accuracy: 0.9036\n",
            "Epoch 5/10\n",
            "206/206 [==============================] - 35s 170ms/step - loss: 0.2481 - accuracy: 0.9054 - val_loss: 0.2594 - val_accuracy: 0.8939\n",
            "Epoch 6/10\n",
            "206/206 [==============================] - 35s 172ms/step - loss: 0.2341 - accuracy: 0.9120 - val_loss: 0.2807 - val_accuracy: 0.8979\n",
            "Epoch 7/10\n",
            "206/206 [==============================] - 36s 177ms/step - loss: 0.2329 - accuracy: 0.9166 - val_loss: 0.2198 - val_accuracy: 0.9149\n",
            "Epoch 8/10\n",
            "206/206 [==============================] - 37s 181ms/step - loss: 0.2254 - accuracy: 0.9151 - val_loss: 0.2579 - val_accuracy: 0.8962\n",
            "Epoch 9/10\n",
            "206/206 [==============================] - 36s 174ms/step - loss: 0.2061 - accuracy: 0.9249 - val_loss: 0.2178 - val_accuracy: 0.9161\n",
            "Epoch 10/10\n",
            "206/206 [==============================] - 36s 175ms/step - loss: 0.2015 - accuracy: 0.9241 - val_loss: 0.1909 - val_accuracy: 0.9240\n"
          ]
        }
      ]
    },
    {
      "cell_type": "code",
      "metadata": {
        "id": "wuh-iXjbMNFw",
        "outputId": "4fcdcb6e-3d28-4cab-f75d-c112fb609f8a",
        "colab": {
          "base_uri": "https://localhost:8080/",
          "height": 295
        }
      },
      "source": [
        "import matplotlib.pyplot as plt\n",
        "\n",
        "loss_train = history.history['loss']\n",
        "loss_val = history.history['val_loss']\n",
        "epochs = range(1,11)\n",
        "plt.plot(epochs, loss_train, 'g', label='Training loss')\n",
        "plt.plot(epochs, loss_val, 'b', label='validation loss')\n",
        "plt.title('Training and Validation loss')\n",
        "plt.xlabel('Epochs')\n",
        "plt.ylabel('Loss')\n",
        "plt.legend()\n",
        "plt.show()"
      ],
      "execution_count": 19,
      "outputs": [
        {
          "output_type": "display_data",
          "data": {
            "image/png": "[encoded data removed]",
            "text/plain": [
              "<Figure size 432x288 with 1 Axes>"
            ]
          },
          "metadata": {
            "needs_background": "light"
          }
        }
      ]
    },
    {
      "cell_type": "code",
      "metadata": {
        "id": "qcRdnsN1RMoF",
        "outputId": "437595a5-3f03-49d8-cf48-d49f6fb2e817",
        "colab": {
          "base_uri": "https://localhost:8080/",
          "height": 295
        }
      },
      "source": [
        "accuracy_train = history.history['accuracy']\n",
        "accuracy_val = history.history['val_accuracy']\n",
        "epochs = range(1,11)\n",
        "plt.plot(epochs, accuracy_train, 'g', label='Training accuracy')\n",
        "plt.plot(epochs, accuracy_val, 'b', label='validation accuracy')\n",
        "plt.title('Training and Validation accuracy')\n",
        "plt.xlabel('Epochs')\n",
        "plt.ylabel('Accuracy')\n",
        "plt.legend()\n",
        "plt.show()"
      ],
      "execution_count": 20,
      "outputs": [
        {
          "output_type": "display_data",
          "data": {
            "image/png": "[encoded data removed]",
            "text/plain": [
              "<Figure size 432x288 with 1 Axes>"
            ]
          },
          "metadata": {
            "needs_background": "light"
          }
        }
      ]
    },
    {
      "cell_type": "markdown",
      "metadata": {
        "id": "lQJZOOogSG1q"
      },
      "source": [
        "## Model Testing"
      ]
    },
    {
      "cell_type": "code",
      "metadata": {
        "id": "itah04BCS5t3"
      },
      "source": [
        "! unzip \"test.zip\""
      ],
      "execution_count": null,
      "outputs": []
    },
    {
      "cell_type": "code",
      "metadata": {
        "id": "ZbNyX9u_SIX2",
        "outputId": "09092071-b0b1-4b6c-e670-52e388eba572",
        "colab": {
          "base_uri": "https://localhost:8080/"
        }
      },
      "source": [
        "#test_datagen = generator.flow_from_directory('./test',target_size=(150,150),class_mode='binary',batch_size=20)"
      ],
      "execution_count": 17,
      "outputs": [
        {
          "output_type": "stream",
          "name": "stdout",
          "text": [
            "Found 0 images belonging to 2 classes.\n"
          ]
        }
      ]
    },
    {
      "cell_type": "code",
      "metadata": {
        "id": "yBTWbas-ShHP"
      },
      "source": [
        "model.predict(test_datagen)"
      ],
      "execution_count": null,
      "outputs": []
    },
    {
      "cell_type": "code",
      "metadata": {
        "id": "GGkfr2AQS9TB"
      },
      "source": [
        ""
      ],
      "execution_count": null,
      "outputs": []
    }
  ]
}