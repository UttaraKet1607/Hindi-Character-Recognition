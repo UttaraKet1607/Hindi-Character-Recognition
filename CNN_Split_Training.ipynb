{
  "nbformat": 4,
  "nbformat_minor": 0,
  "metadata": {
    "colab": {
      "name": "CNN_Split_Training.ipynb",
      "provenance": [],
      "authorship_tag": "ABX9TyMrY/LQcIo8lyvvxLnxvwfU",
      "include_colab_link": true
    },
    "kernelspec": {
      "name": "python3",
      "display_name": "Python 3"
    },
    "language_info": {
      "name": "python"
    }
  },
  "cells": [
    {
      "cell_type": "markdown",
      "metadata": {
        "id": "view-in-github",
        "colab_type": "text"
      },
      "source": [
        "<a href=\"https://colab.research.google.com/github/UttaraKet1607/Hindi-Character-Recognition/blob/main/CNN_Split_Training.ipynb\" target=\"_parent\"><img src=\"https://colab.research.google.com/assets/colab-badge.svg\" alt=\"Open In Colab\"/></a>"
      ]
    },
    {
      "cell_type": "code",
      "metadata": {
        "id": "rJs0UL2NEtp_"
      },
      "source": [
        "! unzip \"training.zip\""
      ],
      "execution_count": null,
      "outputs": []
    },
    {
      "cell_type": "code",
      "metadata": {
        "id": "Xam5YdIGGMVo"
      },
      "source": [
        "import os\n",
        "import shutil\n",
        "from tensorflow.keras.preprocessing import image\n",
        "from tensorflow.keras.models import Sequential, load_model\n",
        "from tensorflow.keras.layers import Conv2D, MaxPool2D, Dense, Flatten, Dropout"
      ],
      "execution_count": 42,
      "outputs": []
    },
    {
      "cell_type": "markdown",
      "metadata": {
        "id": "kx8O815jIwoo"
      },
      "source": [
        "## Creating a Validation Set"
      ]
    },
    {
      "cell_type": "code",
      "metadata": {
        "id": "IWxQsJaRFrtz"
      },
      "source": [
        "os.mkdir('validation')\n",
        "os.mkdir('./validation/background')\n",
        "os.mkdir('./validation/hi')"
      ],
      "execution_count": 36,
      "outputs": []
    },
    {
      "cell_type": "code",
      "metadata": {
        "colab": {
          "base_uri": "https://localhost:8080/"
        },
        "id": "pXiTggRQGwyL",
        "outputId": "0b7738ec-1efb-4fb5-ced3-495e381ce2c6"
      },
      "source": [
        "#finding total number of files in each class\n",
        "bg_imgs = os.listdir('./training/background') \n",
        "hi_imgs = os.listdir('./training/hi')\n",
        "print(len(bg_imgs))\n",
        "print(len(hi_imgs))\n",
        "# ? class imbalance "
      ],
      "execution_count": 37,
      "outputs": [
        {
          "output_type": "stream",
          "name": "stdout",
          "text": [
            "4450\n",
            "1425\n"
          ]
        }
      ]
    },
    {
      "cell_type": "code",
      "metadata": {
        "id": "IdqWZ9iBGKkD"
      },
      "source": [
        "validation_imgs = bg_imgs[3115:] #30% of 4450\n",
        "len(validation_imgs)\n",
        "for f in validation_imgs:\n",
        "  shutil.move(os.path.join('./training/background',f),'./validation/background')"
      ],
      "execution_count": 38,
      "outputs": []
    },
    {
      "cell_type": "code",
      "metadata": {
        "id": "zH47LXj7HuBZ"
      },
      "source": [
        "validation_imgs = hi_imgs[997:] #30% of 1425\n",
        "len(validation_imgs)\n",
        "for f in validation_imgs:\n",
        "  shutil.move(os.path.join('./training/hi',f),'./validation/hi')"
      ],
      "execution_count": 39,
      "outputs": []
    },
    {
      "cell_type": "markdown",
      "metadata": {
        "id": "D5nb7argI0Zg"
      },
      "source": [
        "## Data Preparation"
      ]
    },
    {
      "cell_type": "code",
      "metadata": {
        "colab": {
          "base_uri": "https://localhost:8080/"
        },
        "id": "T-8Ut6T8I_j0",
        "outputId": "fd0e519b-83c4-4707-8be0-bc2fc91e2a75"
      },
      "source": [
        "generator = image.ImageDataGenerator(rescale=1./255, rotation_range=40,       \n",
        "      width_shift_range=0.2,   \n",
        "      height_shift_range=0.2,  \n",
        "      shear_range=0.2,         \n",
        "      zoom_range=0.2,           \n",
        "      horizontal_flip=True,    \n",
        "      fill_mode=\"nearest\")\n",
        "train_datagen = generator.flow_from_directory('./training',target_size=(150,150),classes=['background','hi'],class_mode='binary',batch_size=20)\n",
        "test_datagen = generator.flow_from_directory('./validation',target_size=(150,150),classes=['background','hi'],class_mode='binary',batch_size=20)\n"
      ],
      "execution_count": 41,
      "outputs": [
        {
          "output_type": "stream",
          "name": "stdout",
          "text": [
            "Found 4112 images belonging to 2 classes.\n",
            "Found 1763 images belonging to 2 classes.\n"
          ]
        }
      ]
    },
    {
      "cell_type": "markdown",
      "metadata": {
        "id": "pv6fbINSLcia"
      },
      "source": [
        "## Model Building"
      ]
    },
    {
      "cell_type": "code",
      "metadata": {
        "id": "UpoMaPAUJu3h"
      },
      "source": [
        "model = Sequential()\n",
        "model.add(Conv2D(16, (3,3), activation = \"relu\", input_shape=(150,150,3)))\n",
        "model.add(Flatten())\n",
        "model.add(Dense(128, activation= \"relu\"))\n",
        "model.add(Dense(1, activation = \"sigmoid\"))"
      ],
      "execution_count": 46,
      "outputs": []
    },
    {
      "cell_type": "code",
      "metadata": {
        "id": "ZHsuDaP2KjBb"
      },
      "source": [
        "model.compile(loss=\"binary_crossentropy\",metrics=[\"accuracy\"],optimizer=\"adam\")"
      ],
      "execution_count": 47,
      "outputs": []
    },
    {
      "cell_type": "code",
      "metadata": {
        "colab": {
          "base_uri": "https://localhost:8080/"
        },
        "id": "nFgQAILhMC9Z",
        "outputId": "ee65fa1f-fdf8-43f3-94db-33ff9ea1a66e"
      },
      "source": [
        "history = model.fit(train_datagen,epochs=5,validation_data=test_datagen)"
      ],
      "execution_count": 48,
      "outputs": [
        {
          "output_type": "stream",
          "name": "stdout",
          "text": [
            "Epoch 1/5\n",
            "206/206 [==============================] - 139s 672ms/step - loss: 1.5010 - accuracy: 0.7223 - val_loss: 0.6008 - val_accuracy: 0.7760\n",
            "Epoch 2/5\n",
            "206/206 [==============================] - 139s 673ms/step - loss: 0.4790 - accuracy: 0.8047 - val_loss: 0.4147 - val_accuracy: 0.8259\n",
            "Epoch 3/5\n",
            "206/206 [==============================] - 139s 673ms/step - loss: 0.4069 - accuracy: 0.8315 - val_loss: 0.4031 - val_accuracy: 0.8378\n",
            "Epoch 4/5\n",
            "206/206 [==============================] - 138s 672ms/step - loss: 0.3764 - accuracy: 0.8414 - val_loss: 0.3532 - val_accuracy: 0.8497\n",
            "Epoch 5/5\n",
            "206/206 [==============================] - 138s 668ms/step - loss: 0.3497 - accuracy: 0.8577 - val_loss: 0.3337 - val_accuracy: 0.8582\n"
          ]
        }
      ]
    },
    {
      "cell_type": "code",
      "metadata": {
        "id": "wuh-iXjbMNFw"
      },
      "source": [
        ""
      ],
      "execution_count": null,
      "outputs": []
    }
  ]
}